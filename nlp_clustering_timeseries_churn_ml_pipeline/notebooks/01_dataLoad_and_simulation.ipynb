{
 "cells": [
  {
   "cell_type": "markdown",
   "id": "ebdb6b23",
   "metadata": {},
   "source": [
    "## Step 1: Import all the libraries\n",
    "The python packages to be installed are listed inside the 'requirements.txt' file"
   ]
  },
  {
   "cell_type": "code",
   "execution_count": null,
   "id": "fe11f947",
   "metadata": {},
   "outputs": [],
   "source": [
    "!pip install -r ../requirements.txt #-r stands for 'requirement file'"
   ]
  },
  {
   "cell_type": "markdown",
   "id": "d4afb497",
   "metadata": {},
   "source": [
    "## Step 2: Download the data\n",
    "Here, we will download the data and load it into the 'data' folder.\n",
    "\n",
    "The Telco Customer Churn dataset is a widely used public dataset originally released by IBM. It contains information about a fictional telecommunications company’s customers, including demographic details, service subscriptions, account information, and whether or not the customer has churned (i.e., left the service).\n",
    "\n",
    "The data has 7043 rows and 21 columns and mixed data types (i.e. numeric, categorical, and boolean)."
   ]
  },
  {
   "cell_type": "code",
   "execution_count": 6,
   "id": "067836d9",
   "metadata": {},
   "outputs": [
    {
     "name": "stdout",
     "output_type": "stream",
     "text": [
      "File downloaded successfully\n"
     ]
    }
   ],
   "source": [
    "import urllib.request\n",
    "import os\n",
    "\n",
    "# URL of the dataset (from IBM)\n",
    "url = \"https://raw.githubusercontent.com/IBM/telco-customer-churn-on-icp4d/master/data/Telco-Customer-Churn.csv\"\n",
    "\n",
    "# Save path (go up one level from notebooks/ into data/)\n",
    "save_path = \"../data/telco_churn.csv\"\n",
    "\n",
    "#Download the file\n",
    "urllib.request.urlretrieve(url, save_path)\n",
    "\n",
    "if os.path.exists(save_path):\n",
    "    print('File downloaded successfully')\n",
    "else:\n",
    "    print('File not downloaded')"
   ]
  },
  {
   "cell_type": "code",
   "execution_count": null,
   "id": "434aab0c",
   "metadata": {},
   "outputs": [],
   "source": []
  }
 ],
 "metadata": {
  "kernelspec": {
   "display_name": "Python 3",
   "language": "python",
   "name": "python3"
  },
  "language_info": {
   "codemirror_mode": {
    "name": "ipython",
    "version": 3
   },
   "file_extension": ".py",
   "mimetype": "text/x-python",
   "name": "python",
   "nbconvert_exporter": "python",
   "pygments_lexer": "ipython3",
   "version": "3.12.1"
  }
 },
 "nbformat": 4,
 "nbformat_minor": 5
}
